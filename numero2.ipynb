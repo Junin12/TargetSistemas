{
 "cells": [
  {
   "cell_type": "markdown",
   "metadata": {},
   "source": [
    "### 2) Dado a sequência de Fibonacci, onde se inicia por 0 e 1 e o próximo valor sempre será a soma dos 2 valores anteriores (exemplo: 0, 1, 1, 2, 3, 5, 8, 13, 21, 34...), escreva um programa na linguagem que desejar onde, informado um número, ele calcule a sequência de Fibonacci e retorne uma mensagem avisando se o número informado pertence ou não a sequência."
   ]
  },
  {
   "cell_type": "code",
   "execution_count": 12,
   "metadata": {},
   "outputs": [
    {
     "name": "stdout",
     "output_type": "stream",
     "text": [
      "21 pertence à sequência de Fibonacci.\n"
     ]
    }
   ],
   "source": [
    "def pertence_sequencia_fibonacci(numero_informado):\n",
    "    # Inicializa as variáveis a e b com os primeiros dois números da sequência de Fibonacci\n",
    "    a, b = 0, 1\n",
    "\n",
    "    # Itera enquanto a for menor ou igual ao número informado\n",
    "    while a <= numero_informado:\n",
    "        # Verifica se a é igual ao número informado, se sim, retorna True\n",
    "        if a == numero_informado:\n",
    "            return True\n",
    "        \n",
    "        # Atualiza a e b para os próximos números na sequência de Fibonacci\n",
    "        a, b = b, a + b\n",
    "\n",
    "    # Se nenhum número correspondente for encontrado, retorna False\n",
    "    return False\n",
    "\n",
    "# Solicita ao usuário que insira um número\n",
    "numero_informado = int(input(\"Informe um número: \"))\n",
    "\n",
    "# Verifica se o número pertence à sequência de Fibonacci e exibe a mensagem correspondente\n",
    "if pertence_sequencia_fibonacci(numero_informado): \n",
    "    print(f\"{numero_informado} pertence à sequência de Fibonacci.\") \n",
    "\n",
    "else: \n",
    "    print(f\"{numero_informado} não pertence à sequência de Fibonacci.\")\n",
    "\n",
    "\n"
   ]
  }
 ],
 "metadata": {
  "kernelspec": {
   "display_name": "base",
   "language": "python",
   "name": "python3"
  },
  "language_info": {
   "codemirror_mode": {
    "name": "ipython",
    "version": 3
   },
   "file_extension": ".py",
   "mimetype": "text/x-python",
   "name": "python",
   "nbconvert_exporter": "python",
   "pygments_lexer": "ipython3",
   "version": "3.11.5"
  }
 },
 "nbformat": 4,
 "nbformat_minor": 2
}
