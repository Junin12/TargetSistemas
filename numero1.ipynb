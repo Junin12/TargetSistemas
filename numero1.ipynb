{
 "cells": [
  {
   "cell_type": "markdown",
   "metadata": {},
   "source": [
    "## 1) Observe o trecho de código abaixo:\n",
    "\n",
    "- int INDICE = 13, SOMA = 0, K = 0;\n",
    "\n",
    "- enquanto K < INDICE faça\n",
    "\n",
    "- {\n",
    "\n",
    "- K = K + 1;\n",
    "\n",
    "- SOMA = SOMA + K;\n",
    "\n",
    "- }\n",
    "\n",
    "- imprimir(SOMA);\n",
    "\n",
    "\n",
    "\n",
    "## Ao final do processamento, qual será o valor da variável SOMA?"
   ]
  },
  {
   "cell_type": "code",
   "execution_count": 2,
   "metadata": {},
   "outputs": [
    {
     "name": "stdout",
     "output_type": "stream",
     "text": [
      "O valor de K é 1 e a soma é 1\n",
      "O valor de K é 2 e a soma é 3\n",
      "O valor de K é 3 e a soma é 6\n",
      "O valor de K é 4 e a soma é 10\n",
      "O valor de K é 5 e a soma é 15\n",
      "O valor de K é 6 e a soma é 21\n",
      "O valor de K é 7 e a soma é 28\n",
      "O valor de K é 8 e a soma é 36\n",
      "O valor de K é 9 e a soma é 45\n",
      "O valor de K é 10 e a soma é 55\n",
      "O valor de K é 11 e a soma é 66\n",
      "O valor de K é 12 e a soma é 78\n",
      "O valor de K é 13 e a soma é 91\n",
      "91\n"
     ]
    }
   ],
   "source": [
    "INDICE = 13\n",
    "SOMA = 0\n",
    "K = 0\n",
    "\n",
    "# Condição para o loop\n",
    "while K < INDICE:\n",
    "    K = K + 1 # Incremento de K\n",
    "    SOMA = SOMA + K # Acumulador de SOMA\n",
    "    print(f\"O valor de K é {K} e a soma é {SOMA}\")\n",
    "\n",
    "print(SOMA)\n"
   ]
  }
 ],
 "metadata": {
  "kernelspec": {
   "display_name": "base",
   "language": "python",
   "name": "python3"
  },
  "language_info": {
   "codemirror_mode": {
    "name": "ipython",
    "version": 3
   },
   "file_extension": ".py",
   "mimetype": "text/x-python",
   "name": "python",
   "nbconvert_exporter": "python",
   "pygments_lexer": "ipython3",
   "version": "3.11.5"
  }
 },
 "nbformat": 4,
 "nbformat_minor": 2
}
